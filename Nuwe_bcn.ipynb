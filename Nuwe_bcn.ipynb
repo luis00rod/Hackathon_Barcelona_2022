{
 "cells": [
  {
   "cell_type": "code",
   "execution_count": 1,
   "id": "49366c29",
   "metadata": {},
   "outputs": [],
   "source": [
    "import pandas as pd\n",
    "import numpy as np\n",
    "import matplotlib.pyplot as plt\n",
    "import seaborn as sn\n",
    "from sklearn.metrics import accuracy_score\n",
    "from sklearn.model_selection import train_test_split\n",
    "from sklearn.ensemble import RandomForestClassifier\n",
    "from sklearn import metrics \n",
    "from sklearn.model_selection import GridSearchCV\n",
    "from sklearn.model_selection import KFold\n",
    "from sklearn.model_selection import StratifiedKFold\n",
    "from statistics import mean, stdev\n",
    "from sklearn import preprocessing\n",
    "from sklearn import metrics "
   ]
  },
  {
   "cell_type": "code",
   "execution_count": 4,
   "id": "72027767",
   "metadata": {},
   "outputs": [],
   "source": [
    "df_test = pd.read_csv('mwc22-client_table+-+test_x.csv')"
   ]
  },
  {
   "cell_type": "code",
   "execution_count": 5,
   "id": "48ed26be",
   "metadata": {},
   "outputs": [],
   "source": [
    "# Cargamos la data client_table y convertirla en un dataframe"
   ]
  },
  {
   "cell_type": "code",
   "execution_count": 6,
   "id": "ff6bf659",
   "metadata": {},
   "outputs": [
    {
     "data": {
      "text/html": [
       "<div>\n",
       "<style scoped>\n",
       "    .dataframe tbody tr th:only-of-type {\n",
       "        vertical-align: middle;\n",
       "    }\n",
       "\n",
       "    .dataframe tbody tr th {\n",
       "        vertical-align: top;\n",
       "    }\n",
       "\n",
       "    .dataframe thead th {\n",
       "        text-align: right;\n",
       "    }\n",
       "</style>\n",
       "<table border=\"1\" class=\"dataframe\">\n",
       "  <thead>\n",
       "    <tr style=\"text-align: right;\">\n",
       "      <th></th>\n",
       "      <th>CLIENT ID</th>\n",
       "      <th>CLIENT_SEGMENT</th>\n",
       "      <th>AVG CONSO</th>\n",
       "      <th>AVG BASKET SIZE</th>\n",
       "      <th>RECEIVED_COMMUNICATION</th>\n",
       "    </tr>\n",
       "  </thead>\n",
       "  <tbody>\n",
       "    <tr>\n",
       "      <th>0</th>\n",
       "      <td>24321771</td>\n",
       "      <td>6</td>\n",
       "      <td>67,25</td>\n",
       "      <td>201,75</td>\n",
       "      <td>0</td>\n",
       "    </tr>\n",
       "    <tr>\n",
       "      <th>1</th>\n",
       "      <td>24321859</td>\n",
       "      <td>2</td>\n",
       "      <td>58,33</td>\n",
       "      <td>350</td>\n",
       "      <td>0</td>\n",
       "    </tr>\n",
       "    <tr>\n",
       "      <th>2</th>\n",
       "      <td>24321880</td>\n",
       "      <td>3</td>\n",
       "      <td>46,67</td>\n",
       "      <td>112</td>\n",
       "      <td>0</td>\n",
       "    </tr>\n",
       "    <tr>\n",
       "      <th>3</th>\n",
       "      <td>24321957</td>\n",
       "      <td>2</td>\n",
       "      <td>50</td>\n",
       "      <td>600</td>\n",
       "      <td>0</td>\n",
       "    </tr>\n",
       "    <tr>\n",
       "      <th>4</th>\n",
       "      <td>24321962</td>\n",
       "      <td>4</td>\n",
       "      <td>10</td>\n",
       "      <td>120</td>\n",
       "      <td>0</td>\n",
       "    </tr>\n",
       "  </tbody>\n",
       "</table>\n",
       "</div>"
      ],
      "text/plain": [
       "   CLIENT ID  CLIENT_SEGMENT AVG CONSO AVG BASKET SIZE  RECEIVED_COMMUNICATION\n",
       "0   24321771               6     67,25          201,75                       0\n",
       "1   24321859               2     58,33             350                       0\n",
       "2   24321880               3     46,67             112                       0\n",
       "3   24321957               2        50             600                       0\n",
       "4   24321962               4        10             120                       0"
      ]
     },
     "execution_count": 6,
     "metadata": {},
     "output_type": "execute_result"
    }
   ],
   "source": [
    "df1 = pd.read_csv('mwc22-client_table.csv')\n",
    "df1.head()"
   ]
  },
  {
   "cell_type": "code",
   "execution_count": 7,
   "id": "33532275",
   "metadata": {},
   "outputs": [],
   "source": [
    "# Descripcion estadistica de la tabla client_table sin preprocesar los datos"
   ]
  },
  {
   "cell_type": "code",
   "execution_count": 8,
   "id": "c473a4ca",
   "metadata": {},
   "outputs": [
    {
     "data": {
      "text/html": [
       "<div>\n",
       "<style scoped>\n",
       "    .dataframe tbody tr th:only-of-type {\n",
       "        vertical-align: middle;\n",
       "    }\n",
       "\n",
       "    .dataframe tbody tr th {\n",
       "        vertical-align: top;\n",
       "    }\n",
       "\n",
       "    .dataframe thead th {\n",
       "        text-align: right;\n",
       "    }\n",
       "</style>\n",
       "<table border=\"1\" class=\"dataframe\">\n",
       "  <thead>\n",
       "    <tr style=\"text-align: right;\">\n",
       "      <th></th>\n",
       "      <th>CLIENT ID</th>\n",
       "      <th>CLIENT_SEGMENT</th>\n",
       "      <th>RECEIVED_COMMUNICATION</th>\n",
       "    </tr>\n",
       "  </thead>\n",
       "  <tbody>\n",
       "    <tr>\n",
       "      <th>count</th>\n",
       "      <td>3.588400e+04</td>\n",
       "      <td>35884.000000</td>\n",
       "      <td>35884.000000</td>\n",
       "    </tr>\n",
       "    <tr>\n",
       "      <th>mean</th>\n",
       "      <td>2.706058e+07</td>\n",
       "      <td>3.123593</td>\n",
       "      <td>0.507998</td>\n",
       "    </tr>\n",
       "    <tr>\n",
       "      <th>std</th>\n",
       "      <td>8.835076e+06</td>\n",
       "      <td>1.512932</td>\n",
       "      <td>0.499943</td>\n",
       "    </tr>\n",
       "    <tr>\n",
       "      <th>min</th>\n",
       "      <td>1.807311e+07</td>\n",
       "      <td>1.000000</td>\n",
       "      <td>0.000000</td>\n",
       "    </tr>\n",
       "    <tr>\n",
       "      <th>25%</th>\n",
       "      <td>2.053311e+07</td>\n",
       "      <td>2.000000</td>\n",
       "      <td>0.000000</td>\n",
       "    </tr>\n",
       "    <tr>\n",
       "      <th>50%</th>\n",
       "      <td>2.462190e+07</td>\n",
       "      <td>3.000000</td>\n",
       "      <td>1.000000</td>\n",
       "    </tr>\n",
       "    <tr>\n",
       "      <th>75%</th>\n",
       "      <td>3.298538e+07</td>\n",
       "      <td>4.000000</td>\n",
       "      <td>1.000000</td>\n",
       "    </tr>\n",
       "    <tr>\n",
       "      <th>max</th>\n",
       "      <td>4.836594e+07</td>\n",
       "      <td>6.000000</td>\n",
       "      <td>1.000000</td>\n",
       "    </tr>\n",
       "  </tbody>\n",
       "</table>\n",
       "</div>"
      ],
      "text/plain": [
       "          CLIENT ID  CLIENT_SEGMENT  RECEIVED_COMMUNICATION\n",
       "count  3.588400e+04    35884.000000            35884.000000\n",
       "mean   2.706058e+07        3.123593                0.507998\n",
       "std    8.835076e+06        1.512932                0.499943\n",
       "min    1.807311e+07        1.000000                0.000000\n",
       "25%    2.053311e+07        2.000000                0.000000\n",
       "50%    2.462190e+07        3.000000                1.000000\n",
       "75%    3.298538e+07        4.000000                1.000000\n",
       "max    4.836594e+07        6.000000                1.000000"
      ]
     },
     "execution_count": 8,
     "metadata": {},
     "output_type": "execute_result"
    }
   ],
   "source": [
    "df1.describe()"
   ]
  },
  {
   "cell_type": "code",
   "execution_count": 9,
   "id": "e78e2830",
   "metadata": {},
   "outputs": [],
   "source": [
    "#  Valores nules y tamanaño de la tabla client_table"
   ]
  },
  {
   "cell_type": "code",
   "execution_count": 10,
   "id": "9ea3b3e7",
   "metadata": {},
   "outputs": [
    {
     "data": {
      "text/plain": [
       "CLIENT ID                 0\n",
       "CLIENT_SEGMENT            0\n",
       "AVG CONSO                 0\n",
       "AVG BASKET SIZE           0\n",
       "RECEIVED_COMMUNICATION    0\n",
       "dtype: int64"
      ]
     },
     "execution_count": 10,
     "metadata": {},
     "output_type": "execute_result"
    }
   ],
   "source": [
    "df1.isnull().sum()"
   ]
  },
  {
   "cell_type": "code",
   "execution_count": 11,
   "id": "9d3f0e17",
   "metadata": {},
   "outputs": [
    {
     "data": {
      "text/plain": [
       "(35884, 5)"
      ]
     },
     "execution_count": 11,
     "metadata": {},
     "output_type": "execute_result"
    }
   ],
   "source": [
    "df1.shape"
   ]
  },
  {
   "cell_type": "code",
   "execution_count": 12,
   "id": "2dab81a6",
   "metadata": {},
   "outputs": [],
   "source": [
    "# Convertimos a variables numericas las columnas 'AVG BASKET SIZE' y 'AVG CONSO' de df1"
   ]
  },
  {
   "cell_type": "code",
   "execution_count": 13,
   "id": "f75e1034",
   "metadata": {},
   "outputs": [
    {
     "data": {
      "text/plain": [
       "CLIENT ID                   int64\n",
       "CLIENT_SEGMENT              int64\n",
       "AVG CONSO                 float64\n",
       "AVG BASKET SIZE           float64\n",
       "RECEIVED_COMMUNICATION      int64\n",
       "dtype: object"
      ]
     },
     "execution_count": 13,
     "metadata": {},
     "output_type": "execute_result"
    }
   ],
   "source": [
    "df1['AVG BASKET SIZE'] = df1['AVG BASKET SIZE'].replace(',', '.',regex=True).astype(float)\n",
    "df1['AVG CONSO'] = df1['AVG CONSO'].replace(',', '.',regex=True).astype(float)\n",
    "df1.dtypes"
   ]
  },
  {
   "cell_type": "code",
   "execution_count": 14,
   "id": "f5c18075",
   "metadata": {},
   "outputs": [],
   "source": [
    "# Descripcion estadistica de todas las columnas numericas de la tabla client_table"
   ]
  },
  {
   "cell_type": "code",
   "execution_count": 15,
   "id": "1b29cd79",
   "metadata": {},
   "outputs": [
    {
     "data": {
      "text/html": [
       "<div>\n",
       "<style scoped>\n",
       "    .dataframe tbody tr th:only-of-type {\n",
       "        vertical-align: middle;\n",
       "    }\n",
       "\n",
       "    .dataframe tbody tr th {\n",
       "        vertical-align: top;\n",
       "    }\n",
       "\n",
       "    .dataframe thead th {\n",
       "        text-align: right;\n",
       "    }\n",
       "</style>\n",
       "<table border=\"1\" class=\"dataframe\">\n",
       "  <thead>\n",
       "    <tr style=\"text-align: right;\">\n",
       "      <th></th>\n",
       "      <th>CLIENT ID</th>\n",
       "      <th>CLIENT_SEGMENT</th>\n",
       "      <th>AVG CONSO</th>\n",
       "      <th>AVG BASKET SIZE</th>\n",
       "      <th>RECEIVED_COMMUNICATION</th>\n",
       "    </tr>\n",
       "  </thead>\n",
       "  <tbody>\n",
       "    <tr>\n",
       "      <th>count</th>\n",
       "      <td>3.588400e+04</td>\n",
       "      <td>35884.000000</td>\n",
       "      <td>35884.000000</td>\n",
       "      <td>35884.000000</td>\n",
       "      <td>35884.000000</td>\n",
       "    </tr>\n",
       "    <tr>\n",
       "      <th>mean</th>\n",
       "      <td>2.706058e+07</td>\n",
       "      <td>3.123593</td>\n",
       "      <td>64.534437</td>\n",
       "      <td>181.218610</td>\n",
       "      <td>0.507998</td>\n",
       "    </tr>\n",
       "    <tr>\n",
       "      <th>std</th>\n",
       "      <td>8.835076e+06</td>\n",
       "      <td>1.512932</td>\n",
       "      <td>64.381932</td>\n",
       "      <td>129.604691</td>\n",
       "      <td>0.499943</td>\n",
       "    </tr>\n",
       "    <tr>\n",
       "      <th>min</th>\n",
       "      <td>1.807311e+07</td>\n",
       "      <td>1.000000</td>\n",
       "      <td>0.830000</td>\n",
       "      <td>10.000000</td>\n",
       "      <td>0.000000</td>\n",
       "    </tr>\n",
       "    <tr>\n",
       "      <th>25%</th>\n",
       "      <td>2.053311e+07</td>\n",
       "      <td>2.000000</td>\n",
       "      <td>20.830000</td>\n",
       "      <td>100.000000</td>\n",
       "      <td>0.000000</td>\n",
       "    </tr>\n",
       "    <tr>\n",
       "      <th>50%</th>\n",
       "      <td>2.462190e+07</td>\n",
       "      <td>3.000000</td>\n",
       "      <td>50.000000</td>\n",
       "      <td>160.000000</td>\n",
       "      <td>1.000000</td>\n",
       "    </tr>\n",
       "    <tr>\n",
       "      <th>75%</th>\n",
       "      <td>3.298538e+07</td>\n",
       "      <td>4.000000</td>\n",
       "      <td>88.170000</td>\n",
       "      <td>225.000000</td>\n",
       "      <td>1.000000</td>\n",
       "    </tr>\n",
       "    <tr>\n",
       "      <th>max</th>\n",
       "      <td>4.836594e+07</td>\n",
       "      <td>6.000000</td>\n",
       "      <td>2433.330000</td>\n",
       "      <td>3400.200000</td>\n",
       "      <td>1.000000</td>\n",
       "    </tr>\n",
       "  </tbody>\n",
       "</table>\n",
       "</div>"
      ],
      "text/plain": [
       "          CLIENT ID  CLIENT_SEGMENT     AVG CONSO  AVG BASKET SIZE  \\\n",
       "count  3.588400e+04    35884.000000  35884.000000     35884.000000   \n",
       "mean   2.706058e+07        3.123593     64.534437       181.218610   \n",
       "std    8.835076e+06        1.512932     64.381932       129.604691   \n",
       "min    1.807311e+07        1.000000      0.830000        10.000000   \n",
       "25%    2.053311e+07        2.000000     20.830000       100.000000   \n",
       "50%    2.462190e+07        3.000000     50.000000       160.000000   \n",
       "75%    3.298538e+07        4.000000     88.170000       225.000000   \n",
       "max    4.836594e+07        6.000000   2433.330000      3400.200000   \n",
       "\n",
       "       RECEIVED_COMMUNICATION  \n",
       "count            35884.000000  \n",
       "mean                 0.507998  \n",
       "std                  0.499943  \n",
       "min                  0.000000  \n",
       "25%                  0.000000  \n",
       "50%                  1.000000  \n",
       "75%                  1.000000  \n",
       "max                  1.000000  "
      ]
     },
     "execution_count": 15,
     "metadata": {},
     "output_type": "execute_result"
    }
   ],
   "source": [
    "df1.describe()"
   ]
  },
  {
   "cell_type": "code",
   "execution_count": 16,
   "id": "797c4fd0",
   "metadata": {},
   "outputs": [],
   "source": [
    "# Cargamos la data order_table y convertirla en un dataframe"
   ]
  },
  {
   "cell_type": "code",
   "execution_count": 17,
   "id": "0ead06d9",
   "metadata": {},
   "outputs": [
    {
     "data": {
      "text/html": [
       "<div>\n",
       "<style scoped>\n",
       "    .dataframe tbody tr th:only-of-type {\n",
       "        vertical-align: middle;\n",
       "    }\n",
       "\n",
       "    .dataframe tbody tr th {\n",
       "        vertical-align: top;\n",
       "    }\n",
       "\n",
       "    .dataframe thead th {\n",
       "        text-align: right;\n",
       "    }\n",
       "</style>\n",
       "<table border=\"1\" class=\"dataframe\">\n",
       "  <thead>\n",
       "    <tr style=\"text-align: right;\">\n",
       "      <th></th>\n",
       "      <th>CLIENT ID</th>\n",
       "      <th>NB PRODS</th>\n",
       "      <th>ORDER ID</th>\n",
       "      <th>FRUIT_PRODUCT</th>\n",
       "    </tr>\n",
       "  </thead>\n",
       "  <tbody>\n",
       "    <tr>\n",
       "      <th>0</th>\n",
       "      <td>18070505</td>\n",
       "      <td>5</td>\n",
       "      <td>671907264</td>\n",
       "      <td>Apple</td>\n",
       "    </tr>\n",
       "    <tr>\n",
       "      <th>1</th>\n",
       "      <td>18070505</td>\n",
       "      <td>10</td>\n",
       "      <td>671907264</td>\n",
       "      <td>Orange</td>\n",
       "    </tr>\n",
       "    <tr>\n",
       "      <th>2</th>\n",
       "      <td>18070505</td>\n",
       "      <td>5</td>\n",
       "      <td>671907264</td>\n",
       "      <td>Kiwi</td>\n",
       "    </tr>\n",
       "    <tr>\n",
       "      <th>3</th>\n",
       "      <td>18070505</td>\n",
       "      <td>10</td>\n",
       "      <td>671907264</td>\n",
       "      <td>Pear</td>\n",
       "    </tr>\n",
       "    <tr>\n",
       "      <th>4</th>\n",
       "      <td>18070505</td>\n",
       "      <td>5</td>\n",
       "      <td>671907264</td>\n",
       "      <td>Cheery</td>\n",
       "    </tr>\n",
       "  </tbody>\n",
       "</table>\n",
       "</div>"
      ],
      "text/plain": [
       "   CLIENT ID  NB PRODS   ORDER ID FRUIT_PRODUCT\n",
       "0   18070505         5  671907264         Apple\n",
       "1   18070505        10  671907264        Orange\n",
       "2   18070505         5  671907264          Kiwi\n",
       "3   18070505        10  671907264          Pear\n",
       "4   18070505         5  671907264        Cheery"
      ]
     },
     "execution_count": 17,
     "metadata": {},
     "output_type": "execute_result"
    }
   ],
   "source": [
    "df2 = pd.read_csv('mwc22-orders_table.csv')\n",
    "df2.head()"
   ]
  },
  {
   "cell_type": "code",
   "execution_count": 18,
   "id": "c2a27c3e",
   "metadata": {},
   "outputs": [
    {
     "data": {
      "text/plain": [
       "(66912, 4)"
      ]
     },
     "execution_count": 18,
     "metadata": {},
     "output_type": "execute_result"
    }
   ],
   "source": [
    "df2.shape"
   ]
  },
  {
   "cell_type": "code",
   "execution_count": 19,
   "id": "f6674bec",
   "metadata": {},
   "outputs": [],
   "source": [
    "# Hacemos un merge de los dataframe df1 y df2, utilizamos 'inner' en el parametro 'how' para tomar en cuenta solo las filas\n",
    "# que tienen en comun la columna 'CLIENT ID'"
   ]
  },
  {
   "cell_type": "code",
   "execution_count": 20,
   "id": "2fcbaf2f",
   "metadata": {},
   "outputs": [
    {
     "data": {
      "text/html": [
       "<div>\n",
       "<style scoped>\n",
       "    .dataframe tbody tr th:only-of-type {\n",
       "        vertical-align: middle;\n",
       "    }\n",
       "\n",
       "    .dataframe tbody tr th {\n",
       "        vertical-align: top;\n",
       "    }\n",
       "\n",
       "    .dataframe thead th {\n",
       "        text-align: right;\n",
       "    }\n",
       "</style>\n",
       "<table border=\"1\" class=\"dataframe\">\n",
       "  <thead>\n",
       "    <tr style=\"text-align: right;\">\n",
       "      <th></th>\n",
       "      <th>CLIENT ID</th>\n",
       "      <th>CLIENT_SEGMENT</th>\n",
       "      <th>AVG CONSO</th>\n",
       "      <th>AVG BASKET SIZE</th>\n",
       "      <th>RECEIVED_COMMUNICATION</th>\n",
       "      <th>NB PRODS</th>\n",
       "      <th>ORDER ID</th>\n",
       "      <th>FRUIT_PRODUCT</th>\n",
       "    </tr>\n",
       "  </thead>\n",
       "  <tbody>\n",
       "    <tr>\n",
       "      <th>0</th>\n",
       "      <td>24321771</td>\n",
       "      <td>6</td>\n",
       "      <td>67.25</td>\n",
       "      <td>201.75</td>\n",
       "      <td>0</td>\n",
       "      <td>2</td>\n",
       "      <td>676480593</td>\n",
       "      <td>Lemon</td>\n",
       "    </tr>\n",
       "    <tr>\n",
       "      <th>1</th>\n",
       "      <td>24321880</td>\n",
       "      <td>3</td>\n",
       "      <td>46.67</td>\n",
       "      <td>112.00</td>\n",
       "      <td>0</td>\n",
       "      <td>10</td>\n",
       "      <td>668762140</td>\n",
       "      <td>Orange</td>\n",
       "    </tr>\n",
       "    <tr>\n",
       "      <th>2</th>\n",
       "      <td>24321957</td>\n",
       "      <td>2</td>\n",
       "      <td>50.00</td>\n",
       "      <td>600.00</td>\n",
       "      <td>0</td>\n",
       "      <td>20</td>\n",
       "      <td>667332821</td>\n",
       "      <td>Apricot</td>\n",
       "    </tr>\n",
       "    <tr>\n",
       "      <th>3</th>\n",
       "      <td>24321957</td>\n",
       "      <td>2</td>\n",
       "      <td>50.00</td>\n",
       "      <td>600.00</td>\n",
       "      <td>0</td>\n",
       "      <td>20</td>\n",
       "      <td>667332821</td>\n",
       "      <td>Orange</td>\n",
       "    </tr>\n",
       "    <tr>\n",
       "      <th>4</th>\n",
       "      <td>24322170</td>\n",
       "      <td>1</td>\n",
       "      <td>116.67</td>\n",
       "      <td>200.00</td>\n",
       "      <td>0</td>\n",
       "      <td>5</td>\n",
       "      <td>668261888</td>\n",
       "      <td>Lemon</td>\n",
       "    </tr>\n",
       "    <tr>\n",
       "      <th>...</th>\n",
       "      <td>...</td>\n",
       "      <td>...</td>\n",
       "      <td>...</td>\n",
       "      <td>...</td>\n",
       "      <td>...</td>\n",
       "      <td>...</td>\n",
       "      <td>...</td>\n",
       "      <td>...</td>\n",
       "    </tr>\n",
       "    <tr>\n",
       "      <th>66867</th>\n",
       "      <td>48335525</td>\n",
       "      <td>3</td>\n",
       "      <td>50.00</td>\n",
       "      <td>200.00</td>\n",
       "      <td>1</td>\n",
       "      <td>10</td>\n",
       "      <td>670782454</td>\n",
       "      <td>Cheery</td>\n",
       "    </tr>\n",
       "    <tr>\n",
       "      <th>66868</th>\n",
       "      <td>48365750</td>\n",
       "      <td>3</td>\n",
       "      <td>41.67</td>\n",
       "      <td>125.00</td>\n",
       "      <td>1</td>\n",
       "      <td>1</td>\n",
       "      <td>670187349</td>\n",
       "      <td>Papaya</td>\n",
       "    </tr>\n",
       "    <tr>\n",
       "      <th>66869</th>\n",
       "      <td>48365750</td>\n",
       "      <td>3</td>\n",
       "      <td>41.67</td>\n",
       "      <td>125.00</td>\n",
       "      <td>1</td>\n",
       "      <td>9</td>\n",
       "      <td>670187349</td>\n",
       "      <td>Lemon</td>\n",
       "    </tr>\n",
       "    <tr>\n",
       "      <th>66870</th>\n",
       "      <td>48365861</td>\n",
       "      <td>3</td>\n",
       "      <td>62.58</td>\n",
       "      <td>125.17</td>\n",
       "      <td>1</td>\n",
       "      <td>10</td>\n",
       "      <td>668693229</td>\n",
       "      <td>Nectarine</td>\n",
       "    </tr>\n",
       "    <tr>\n",
       "      <th>66871</th>\n",
       "      <td>48365861</td>\n",
       "      <td>3</td>\n",
       "      <td>62.58</td>\n",
       "      <td>125.17</td>\n",
       "      <td>1</td>\n",
       "      <td>5</td>\n",
       "      <td>668693229</td>\n",
       "      <td>Lemon</td>\n",
       "    </tr>\n",
       "  </tbody>\n",
       "</table>\n",
       "<p>66872 rows × 8 columns</p>\n",
       "</div>"
      ],
      "text/plain": [
       "       CLIENT ID  CLIENT_SEGMENT  AVG CONSO  AVG BASKET SIZE  \\\n",
       "0       24321771               6      67.25           201.75   \n",
       "1       24321880               3      46.67           112.00   \n",
       "2       24321957               2      50.00           600.00   \n",
       "3       24321957               2      50.00           600.00   \n",
       "4       24322170               1     116.67           200.00   \n",
       "...          ...             ...        ...              ...   \n",
       "66867   48335525               3      50.00           200.00   \n",
       "66868   48365750               3      41.67           125.00   \n",
       "66869   48365750               3      41.67           125.00   \n",
       "66870   48365861               3      62.58           125.17   \n",
       "66871   48365861               3      62.58           125.17   \n",
       "\n",
       "       RECEIVED_COMMUNICATION  NB PRODS   ORDER ID FRUIT_PRODUCT  \n",
       "0                           0         2  676480593         Lemon  \n",
       "1                           0        10  668762140        Orange  \n",
       "2                           0        20  667332821       Apricot  \n",
       "3                           0        20  667332821        Orange  \n",
       "4                           0         5  668261888         Lemon  \n",
       "...                       ...       ...        ...           ...  \n",
       "66867                       1        10  670782454        Cheery  \n",
       "66868                       1         1  670187349        Papaya  \n",
       "66869                       1         9  670187349         Lemon  \n",
       "66870                       1        10  668693229     Nectarine  \n",
       "66871                       1         5  668693229         Lemon  \n",
       "\n",
       "[66872 rows x 8 columns]"
      ]
     },
     "execution_count": 20,
     "metadata": {},
     "output_type": "execute_result"
    }
   ],
   "source": [
    "df3 = df1.merge(df2, how='inner')\n",
    "df3"
   ]
  },
  {
   "cell_type": "code",
   "execution_count": 21,
   "id": "46fd3fdd",
   "metadata": {},
   "outputs": [
    {
     "name": "stdout",
     "output_type": "stream",
     "text": [
      "numero de filas df1 = 35884\n",
      "numero de filas df2 = 14499\n",
      "numero de filas df3 = 14492\n"
     ]
    }
   ],
   "source": [
    "print('numero de filas df1 =', len(df1['CLIENT ID'].unique()))\n",
    "print('numero de filas df2 =', len(df2['CLIENT ID'].unique()))\n",
    "print('numero de filas df3 =', len(df3['CLIENT ID'].unique()))"
   ]
  },
  {
   "cell_type": "code",
   "execution_count": 22,
   "id": "7c2d0bc0",
   "metadata": {},
   "outputs": [
    {
     "data": {
      "text/plain": [
       "Index(['CLIENT ID', 'AVG CONSO', 'AVG BASKET SIZE', 'RECEIVED_COMMUNICATION'], dtype='object')"
      ]
     },
     "execution_count": 22,
     "metadata": {},
     "output_type": "execute_result"
    }
   ],
   "source": [
    "# Dataset con las variables preditoras\n",
    "pd.read_csv('mwc22-client_table+-+test_x.csv').columns"
   ]
  },
  {
   "cell_type": "code",
   "execution_count": 23,
   "id": "f33c0436",
   "metadata": {},
   "outputs": [],
   "source": [
    "df3.drop(['ORDER ID', 'CLIENT ID'], axis=1, inplace=True)"
   ]
  },
  {
   "cell_type": "code",
   "execution_count": 24,
   "id": "b1de5c32",
   "metadata": {},
   "outputs": [],
   "source": [
    "# Matrix de correlacion del dataframe df3 "
   ]
  },
  {
   "cell_type": "code",
   "execution_count": 25,
   "id": "d46a9b66",
   "metadata": {},
   "outputs": [
    {
     "data": {
      "image/png": "[encoded data removed]",
      "text/plain": [
       "<Figure size 432x288 with 2 Axes>"
      ]
     },
     "metadata": {
      "needs_background": "light"
     },
     "output_type": "display_data"
    }
   ],
   "source": [
    "corrMatrix = df3.corr()\n",
    "sn.heatmap(corrMatrix, annot=True)\n",
    "plt.show()"
   ]
  },
  {
   "cell_type": "code",
   "execution_count": 26,
   "id": "9a02b59c",
   "metadata": {},
   "outputs": [],
   "source": [
    "# Bar donde se muestran el consumo medio mensual de cada fruta"
   ]
  },
  {
   "cell_type": "code",
   "execution_count": 27,
   "id": "e388e77c",
   "metadata": {},
   "outputs": [
    {
     "data": {
      "text/plain": [
       "<AxesSubplot:xlabel='FRUIT_PRODUCT'>"
      ]
     },
     "execution_count": 27,
     "metadata": {},
     "output_type": "execute_result"
    },
    {
     "data": {
      "image/png": "[encoded data removed]",
      "text/plain": [
       "<Figure size 432x288 with 1 Axes>"
      ]
     },
     "metadata": {
      "needs_background": "light"
     },
     "output_type": "display_data"
    }
   ],
   "source": [
    "df3.groupby('FRUIT_PRODUCT')['AVG CONSO'].count().plot(kind='bar')"
   ]
  },
  {
   "cell_type": "code",
   "execution_count": 28,
   "id": "79152c04",
   "metadata": {},
   "outputs": [],
   "source": [
    "# Numero de clientes que han recibido la promocion y el numero de clientes que no la recibieron"
   ]
  },
  {
   "cell_type": "code",
   "execution_count": 29,
   "id": "d3d06a98",
   "metadata": {},
   "outputs": [
    {
     "data": {
      "text/plain": [
       "<AxesSubplot:>"
      ]
     },
     "execution_count": 29,
     "metadata": {},
     "output_type": "execute_result"
    },
    {
     "data": {
      "image/png": "[encoded data removed]",
      "text/plain": [
       "<Figure size 432x288 with 1 Axes>"
      ]
     },
     "metadata": {
      "needs_background": "light"
     },
     "output_type": "display_data"
    }
   ],
   "source": [
    "df3.RECEIVED_COMMUNICATION.hist()"
   ]
  },
  {
   "cell_type": "code",
   "execution_count": 30,
   "id": "03a48edb",
   "metadata": {},
   "outputs": [],
   "source": [
    "# Dividimos la data df1 en las variables X(features) e y(target)"
   ]
  },
  {
   "cell_type": "code",
   "execution_count": 31,
   "id": "040bad99",
   "metadata": {},
   "outputs": [],
   "source": [
    "X = df1.drop('CLIENT_SEGMENT', axis = 1)\n",
    "y = df1['CLIENT_SEGMENT']"
   ]
  },
  {
   "cell_type": "code",
   "execution_count": 32,
   "id": "3e2b5f92",
   "metadata": {},
   "outputs": [],
   "source": [
    "X_train, X_test, y_train, y_test = train_test_split(X, y, test_size = 0.20)"
   ]
  },
  {
   "cell_type": "code",
   "execution_count": 33,
   "id": "380d530c",
   "metadata": {},
   "outputs": [],
   "source": [
    "# Escogemos un random forest como algoritmo clasificador"
   ]
  },
  {
   "cell_type": "code",
   "execution_count": 34,
   "id": "4212be54",
   "metadata": {},
   "outputs": [],
   "source": [
    "clf = RandomForestClassifier(n_estimators = 800) "
   ]
  },
  {
   "cell_type": "code",
   "execution_count": null,
   "id": "e1db9a39",
   "metadata": {},
   "outputs": [],
   "source": [
    "# Hacemos un gridsearch para  encontrar los mejores parametros del random forest"
   ]
  },
  {
   "cell_type": "code",
   "execution_count": 88,
   "id": "da64d0c4",
   "metadata": {},
   "outputs": [],
   "source": [
    "def grid_search(df1):\n",
    "    param_grid = { \n",
    "        'n_estimators': [100, 200,400,],\n",
    "        'max_features': ['auto', 'sqrt', 'log2'],\n",
    "        'max_depth' : [4,5,6,7,8],\n",
    "        'criterion' :['gini', 'entropy']\n",
    "    }\n",
    "    grid_search_forest = GridSearchCV(clf, param_grid, cv=10, scoring='neg_mean_squared_error')\n",
    "    grid_search_forest.fit(X_train, y_train)\n",
    "    print(grid_search_forest.best_params_)\n",
    "    print(grid_search_forest.best_score_)"
   ]
  },
  {
   "cell_type": "code",
   "execution_count": 89,
   "id": "7ed0b4d3",
   "metadata": {},
   "outputs": [
    {
     "name": "stdout",
     "output_type": "stream",
     "text": [
      "{'criterion': 'entropy', 'max_depth': 6, 'max_features': 'auto', 'n_estimators': 400}\n",
      "-1.407113426709726\n"
     ]
    }
   ],
   "source": [
    "grid_search(X_train)"
   ]
  },
  {
   "cell_type": "code",
   "execution_count": null,
   "id": "63514898",
   "metadata": {},
   "outputs": [],
   "source": [
    "# Escalamos la data para que tengan una distribucion normal"
   ]
  },
  {
   "cell_type": "code",
   "execution_count": 36,
   "id": "358eab0e",
   "metadata": {},
   "outputs": [],
   "source": [
    "scaler = preprocessing.MinMaxScaler()\n",
    "x_scaled = scaler.fit_transform(X_train)"
   ]
  },
  {
   "cell_type": "code",
   "execution_count": 37,
   "id": "be28d5b8",
   "metadata": {},
   "outputs": [],
   "source": [
    "x_scaled = pd.DataFrame(x_scaled)"
   ]
  },
  {
   "cell_type": "code",
   "execution_count": 38,
   "id": "5ad168a4",
   "metadata": {},
   "outputs": [],
   "source": [
    "# Entrenamos el algoritmo"
   ]
  },
  {
   "cell_type": "code",
   "execution_count": 39,
   "id": "8f8e0bde",
   "metadata": {},
   "outputs": [],
   "source": [
    "clf = RandomForestClassifier(n_estimators = 400, criterion = 'gini', max_depth = 8, max_features = 'auto')  \n",
    "skf = StratifiedKFold(n_splits=10, shuffle=True, random_state=1)\n",
    "lst_accu_stratified = []"
   ]
  },
  {
   "cell_type": "code",
   "execution_count": 40,
   "id": "162e4f7b",
   "metadata": {},
   "outputs": [],
   "source": [
    "# Aplicamos el algoritmo a diferente 'trozos' de la data y comparamos resultados"
   ]
  },
  {
   "cell_type": "code",
   "execution_count": 41,
   "id": "95878082",
   "metadata": {},
   "outputs": [
    {
     "name": "stdout",
     "output_type": "stream",
     "text": [
      "List of possible accuracy: [0.7784743991640544, 0.778126088470916, 0.7920585161964472, 0.791710205503309, 0.7871821664925113, 0.7903169627307558, 0.7812608847091606, 0.7905923344947735, 0.7878048780487805, 0.7780487804878049]\n",
      "\n",
      "Maximum Accuracy That can be obtained from this model is: 79.20585161964472 %\n",
      "\n",
      "Minimum Accuracy: 77.8048780487805 %\n",
      "\n",
      "Overall Accuracy: 78.55575216298513 %\n",
      "\n",
      "Standard Deviation is: 0.00592592473993678\n",
      "Wall time: 1min 32s\n"
     ]
    }
   ],
   "source": [
    "%%time\n",
    "\n",
    "for train_index, test_index in skf.split(X_train, y_train):\n",
    "    x_train_fold, x_test_fold = X_train.iloc[train_index], X_train.iloc[test_index]\n",
    "    y_train_fold, y_test_fold = y_train.iloc[train_index], y_train.iloc[test_index]\n",
    "    clf.fit(x_train_fold, y_train_fold)\n",
    "    lst_accu_stratified.append(clf.score(x_test_fold, y_test_fold))\n",
    "  \n",
    "# Print the output.\n",
    "print('List of possible accuracy:', lst_accu_stratified)\n",
    "print('\\nMaximum Accuracy That can be obtained from this model is:',\n",
    "      max(lst_accu_stratified)*100, '%')\n",
    "print('\\nMinimum Accuracy:',\n",
    "      min(lst_accu_stratified)*100, '%')\n",
    "print('\\nOverall Accuracy:',\n",
    "      mean(lst_accu_stratified)*100, '%')\n",
    "print('\\nStandard Deviation is:', stdev(lst_accu_stratified))\n",
    "# Lista del accuracy una vez entrenado el modelo y aplicado a los diferetes 'splits'"
   ]
  },
  {
   "cell_type": "code",
   "execution_count": null,
   "id": "023d3897",
   "metadata": {},
   "outputs": [],
   "source": [
    "# Prediccion"
   ]
  },
  {
   "cell_type": "code",
   "execution_count": 42,
   "id": "2039998d",
   "metadata": {},
   "outputs": [],
   "source": [
    "y_pred = clf.predict(X_test)"
   ]
  },
  {
   "cell_type": "code",
   "execution_count": 43,
   "id": "f4282fbc",
   "metadata": {},
   "outputs": [
    {
     "name": "stdout",
     "output_type": "stream",
     "text": [
      "f1_score = 0.6950033976335462\n"
     ]
    }
   ],
   "source": [
    "f1_score = metrics.f1_score(y_test, y_pred, average='macro')\n",
    "print('f1_score =', f1_score)"
   ]
  },
  {
   "cell_type": "code",
   "execution_count": 44,
   "id": "6ad5bd5c",
   "metadata": {},
   "outputs": [],
   "source": [
    "# Convertimos a variables numericas las columnas 'AVG BASKET SIZE' y 'AVG CONSO' de df_test"
   ]
  },
  {
   "cell_type": "code",
   "execution_count": 45,
   "id": "e6cb0781",
   "metadata": {},
   "outputs": [
    {
     "data": {
      "text/plain": [
       "CLIENT ID                   int64\n",
       "AVG CONSO                 float64\n",
       "AVG BASKET SIZE           float64\n",
       "RECEIVED_COMMUNICATION      int64\n",
       "dtype: object"
      ]
     },
     "execution_count": 45,
     "metadata": {},
     "output_type": "execute_result"
    }
   ],
   "source": [
    "df_test['AVG BASKET SIZE'] = df_test['AVG BASKET SIZE'].replace(',', '.',regex=True).astype(float)\n",
    "df_test['AVG CONSO'] = df_test['AVG CONSO'].replace(',', '.',regex=True).astype(float)\n",
    "df_test.dtypes"
   ]
  },
  {
   "cell_type": "code",
   "execution_count": 46,
   "id": "2cbbc72d",
   "metadata": {},
   "outputs": [],
   "source": [
    "pred = clf.predict(df_test)"
   ]
  },
  {
   "cell_type": "code",
   "execution_count": 87,
   "id": "e8bd8564",
   "metadata": {},
   "outputs": [],
   "source": [
    "results = pd.DataFrame(pred, columns=['CLIENT_SEGMENT']).join(df_test['CLIENT ID'])"
   ]
  },
  {
   "cell_type": "code",
   "execution_count": 85,
   "id": "b763271a",
   "metadata": {},
   "outputs": [],
   "source": [
    "results_csv = pd.DataFrame(results, columns=['CLIENT ID', 'CLIENT_SEGMENT']).to_csv('results.csv', header=True, index = False)"
   ]
  },
  {
   "cell_type": "code",
   "execution_count": null,
   "id": "c82209d7",
   "metadata": {},
   "outputs": [],
   "source": []
  }
 ],
 "metadata": {
  "kernelspec": {
   "display_name": "Python 3",
   "language": "python",
   "name": "python3"
  },
  "language_info": {
   "codemirror_mode": {
    "name": "ipython",
    "version": 3
   },
   "file_extension": ".py",
   "mimetype": "text/x-python",
   "name": "python",
   "nbconvert_exporter": "python",
   "pygments_lexer": "ipython3",
   "version": "3.6.13"
  }
 },
 "nbformat": 4,
 "nbformat_minor": 5
}
